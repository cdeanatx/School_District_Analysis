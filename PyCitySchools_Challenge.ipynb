{
 "cells": [
  {
   "cell_type": "code",
   "execution_count": 1,
   "id": "6902947a",
   "metadata": {},
   "outputs": [
    {
     "name": "stderr",
     "output_type": "stream",
     "text": [
      "C:\\anaconda3\\envs\\PythonData\\lib\\site-packages\\ipykernel_launcher.py:18: FutureWarning: The default value of regex will change from True to False in a future version.\n"
     ]
    },
    {
     "data": {
      "text/html": [
       "<div>\n",
       "<style scoped>\n",
       "    .dataframe tbody tr th:only-of-type {\n",
       "        vertical-align: middle;\n",
       "    }\n",
       "\n",
       "    .dataframe tbody tr th {\n",
       "        vertical-align: top;\n",
       "    }\n",
       "\n",
       "    .dataframe thead th {\n",
       "        text-align: right;\n",
       "    }\n",
       "</style>\n",
       "<table border=\"1\" class=\"dataframe\">\n",
       "  <thead>\n",
       "    <tr style=\"text-align: right;\">\n",
       "      <th></th>\n",
       "      <th>Student ID</th>\n",
       "      <th>student_name</th>\n",
       "      <th>gender</th>\n",
       "      <th>grade</th>\n",
       "      <th>school_name</th>\n",
       "      <th>reading_score</th>\n",
       "      <th>math_score</th>\n",
       "    </tr>\n",
       "  </thead>\n",
       "  <tbody>\n",
       "    <tr>\n",
       "      <th>0</th>\n",
       "      <td>0</td>\n",
       "      <td>Paul Bradley</td>\n",
       "      <td>M</td>\n",
       "      <td>9th</td>\n",
       "      <td>Huang High School</td>\n",
       "      <td>66</td>\n",
       "      <td>79</td>\n",
       "    </tr>\n",
       "    <tr>\n",
       "      <th>1</th>\n",
       "      <td>1</td>\n",
       "      <td>Victor Smith</td>\n",
       "      <td>M</td>\n",
       "      <td>12th</td>\n",
       "      <td>Huang High School</td>\n",
       "      <td>94</td>\n",
       "      <td>61</td>\n",
       "    </tr>\n",
       "    <tr>\n",
       "      <th>2</th>\n",
       "      <td>2</td>\n",
       "      <td>Kevin Rodriguez</td>\n",
       "      <td>M</td>\n",
       "      <td>12th</td>\n",
       "      <td>Huang High School</td>\n",
       "      <td>90</td>\n",
       "      <td>60</td>\n",
       "    </tr>\n",
       "    <tr>\n",
       "      <th>3</th>\n",
       "      <td>3</td>\n",
       "      <td>Richard Scott</td>\n",
       "      <td>M</td>\n",
       "      <td>12th</td>\n",
       "      <td>Huang High School</td>\n",
       "      <td>67</td>\n",
       "      <td>58</td>\n",
       "    </tr>\n",
       "    <tr>\n",
       "      <th>4</th>\n",
       "      <td>4</td>\n",
       "      <td>Bonnie Ray</td>\n",
       "      <td>F</td>\n",
       "      <td>9th</td>\n",
       "      <td>Huang High School</td>\n",
       "      <td>97</td>\n",
       "      <td>84</td>\n",
       "    </tr>\n",
       "    <tr>\n",
       "      <th>5</th>\n",
       "      <td>5</td>\n",
       "      <td>Bryan Miranda</td>\n",
       "      <td>M</td>\n",
       "      <td>9th</td>\n",
       "      <td>Huang High School</td>\n",
       "      <td>94</td>\n",
       "      <td>94</td>\n",
       "    </tr>\n",
       "    <tr>\n",
       "      <th>6</th>\n",
       "      <td>6</td>\n",
       "      <td>Sheena Carter</td>\n",
       "      <td>F</td>\n",
       "      <td>11th</td>\n",
       "      <td>Huang High School</td>\n",
       "      <td>82</td>\n",
       "      <td>80</td>\n",
       "    </tr>\n",
       "    <tr>\n",
       "      <th>7</th>\n",
       "      <td>7</td>\n",
       "      <td>Nicole Baker</td>\n",
       "      <td>F</td>\n",
       "      <td>12th</td>\n",
       "      <td>Huang High School</td>\n",
       "      <td>96</td>\n",
       "      <td>69</td>\n",
       "    </tr>\n",
       "    <tr>\n",
       "      <th>8</th>\n",
       "      <td>8</td>\n",
       "      <td>Michael Roth</td>\n",
       "      <td>M</td>\n",
       "      <td>10th</td>\n",
       "      <td>Huang High School</td>\n",
       "      <td>95</td>\n",
       "      <td>87</td>\n",
       "    </tr>\n",
       "    <tr>\n",
       "      <th>9</th>\n",
       "      <td>9</td>\n",
       "      <td>Matthew Greene</td>\n",
       "      <td>M</td>\n",
       "      <td>10th</td>\n",
       "      <td>Huang High School</td>\n",
       "      <td>96</td>\n",
       "      <td>84</td>\n",
       "    </tr>\n",
       "  </tbody>\n",
       "</table>\n",
       "</div>"
      ],
      "text/plain": [
       "   Student ID     student_name gender grade        school_name  reading_score  \\\n",
       "0           0     Paul Bradley      M   9th  Huang High School             66   \n",
       "1           1     Victor Smith      M  12th  Huang High School             94   \n",
       "2           2  Kevin Rodriguez      M  12th  Huang High School             90   \n",
       "3           3    Richard Scott      M  12th  Huang High School             67   \n",
       "4           4       Bonnie Ray      F   9th  Huang High School             97   \n",
       "5           5    Bryan Miranda      M   9th  Huang High School             94   \n",
       "6           6    Sheena Carter      F  11th  Huang High School             82   \n",
       "7           7     Nicole Baker      F  12th  Huang High School             96   \n",
       "8           8     Michael Roth      M  10th  Huang High School             95   \n",
       "9           9   Matthew Greene      M  10th  Huang High School             96   \n",
       "\n",
       "   math_score  \n",
       "0          79  \n",
       "1          61  \n",
       "2          60  \n",
       "3          58  \n",
       "4          84  \n",
       "5          94  \n",
       "6          80  \n",
       "7          69  \n",
       "8          87  \n",
       "9          84  "
      ]
     },
     "execution_count": 1,
     "metadata": {},
     "output_type": "execute_result"
    }
   ],
   "source": [
    "# Dependencies and Setup\n",
    "import pandas as pd\n",
    "\n",
    "# File to Load (Remember to change the path if needed.)\n",
    "school_data_to_load = \"Resources/schools_complete.csv\"\n",
    "student_data_to_load = \"Resources/students_complete.csv\"\n",
    "\n",
    "# Read the School Data and Student Data and store into a Pandas DataFrame\n",
    "school_data_df = pd.read_csv(school_data_to_load)\n",
    "student_data_df = pd.read_csv(student_data_to_load)\n",
    "\n",
    "# Cleaning Student Names and Replacing Substrings in a Python String\n",
    "# Add each prefix and suffix to remove to a list.\n",
    "prefixes_suffixes = [\"Dr. \", \"Mr. \",\"Ms. \", \"Mrs. \", \"Miss \", \" MD\", \" DDS\", \" DVM\", \" PhD\"]\n",
    "\n",
    "# Iterate through the words in the \"prefixes_suffixes\" list and replace them with an empty space, \"\".\n",
    "for word in prefixes_suffixes:\n",
    "    student_data_df[\"student_name\"] = student_data_df[\"student_name\"].str.replace(word,\"\")\n",
    "\n",
    "# Check names.\n",
    "student_data_df.head(10)"
   ]
  },
  {
   "cell_type": "markdown",
   "id": "ac3c9ccc",
   "metadata": {},
   "source": [
    "## Deliverable 1: Replace the reading and math scores.\n",
    "\n",
    "### Replace the 9th grade reading and math scores at Thomas High School with NaN."
   ]
  },
  {
   "cell_type": "code",
   "execution_count": 2,
   "id": "c962dfe8",
   "metadata": {},
   "outputs": [],
   "source": [
    "# Install numpy using conda install numpy or pip install numpy. \n",
    "# Step 1. Import numpy as np.\n",
    "import numpy as np"
   ]
  },
  {
   "cell_type": "code",
   "execution_count": 36,
   "id": "71e31f23",
   "metadata": {},
   "outputs": [],
   "source": [
    "# Step 2. Use the loc method on the student_data_df to select all the reading scores from the 9th grade at Thomas High School and replace them with NaN.\n",
    "student_data_df.loc[(student_data_df.school_name == 'Thomas High School') & (student_data_df.grade == '9th'),['reading_score']] = np.nan"
   ]
  },
  {
   "cell_type": "code",
   "execution_count": 37,
   "id": "2c4f6a8e",
   "metadata": {},
   "outputs": [],
   "source": [
    "#  Step 3. Refactor the code in Step 2 to replace the math scores with NaN.\n",
    "student_data_df.loc[(student_data_df.school_name == 'Thomas High School') & (student_data_df.grade == '9th'),['math_score']] = np.nan"
   ]
  },
  {
   "cell_type": "code",
   "execution_count": 43,
   "id": "03d35666",
   "metadata": {},
   "outputs": [
    {
     "data": {
      "text/html": [
       "<div>\n",
       "<style scoped>\n",
       "    .dataframe tbody tr th:only-of-type {\n",
       "        vertical-align: middle;\n",
       "    }\n",
       "\n",
       "    .dataframe tbody tr th {\n",
       "        vertical-align: top;\n",
       "    }\n",
       "\n",
       "    .dataframe thead th {\n",
       "        text-align: right;\n",
       "    }\n",
       "</style>\n",
       "<table border=\"1\" class=\"dataframe\">\n",
       "  <thead>\n",
       "    <tr style=\"text-align: right;\">\n",
       "      <th></th>\n",
       "      <th>Student ID</th>\n",
       "      <th>student_name</th>\n",
       "      <th>gender</th>\n",
       "      <th>grade</th>\n",
       "      <th>school_name</th>\n",
       "      <th>reading_score</th>\n",
       "      <th>math_score</th>\n",
       "    </tr>\n",
       "  </thead>\n",
       "  <tbody>\n",
       "    <tr>\n",
       "      <th>39160</th>\n",
       "      <td>39160</td>\n",
       "      <td>Katie Weaver</td>\n",
       "      <td>F</td>\n",
       "      <td>11th</td>\n",
       "      <td>Thomas High School</td>\n",
       "      <td>89.0</td>\n",
       "      <td>86.0</td>\n",
       "    </tr>\n",
       "    <tr>\n",
       "      <th>39161</th>\n",
       "      <td>39161</td>\n",
       "      <td>April Reyes</td>\n",
       "      <td>F</td>\n",
       "      <td>10th</td>\n",
       "      <td>Thomas High School</td>\n",
       "      <td>70.0</td>\n",
       "      <td>84.0</td>\n",
       "    </tr>\n",
       "    <tr>\n",
       "      <th>39162</th>\n",
       "      <td>39162</td>\n",
       "      <td>Derek Weeks</td>\n",
       "      <td>M</td>\n",
       "      <td>12th</td>\n",
       "      <td>Thomas High School</td>\n",
       "      <td>94.0</td>\n",
       "      <td>77.0</td>\n",
       "    </tr>\n",
       "    <tr>\n",
       "      <th>39163</th>\n",
       "      <td>39163</td>\n",
       "      <td>John Reese</td>\n",
       "      <td>M</td>\n",
       "      <td>11th</td>\n",
       "      <td>Thomas High School</td>\n",
       "      <td>90.0</td>\n",
       "      <td>75.0</td>\n",
       "    </tr>\n",
       "    <tr>\n",
       "      <th>39164</th>\n",
       "      <td>39164</td>\n",
       "      <td>Joseph Anthony</td>\n",
       "      <td>M</td>\n",
       "      <td>9th</td>\n",
       "      <td>Thomas High School</td>\n",
       "      <td>NaN</td>\n",
       "      <td>NaN</td>\n",
       "    </tr>\n",
       "    <tr>\n",
       "      <th>39165</th>\n",
       "      <td>39165</td>\n",
       "      <td>Donna Howard</td>\n",
       "      <td>F</td>\n",
       "      <td>12th</td>\n",
       "      <td>Thomas High School</td>\n",
       "      <td>99.0</td>\n",
       "      <td>90.0</td>\n",
       "    </tr>\n",
       "    <tr>\n",
       "      <th>39166</th>\n",
       "      <td>39166</td>\n",
       "      <td>Dawn Bell</td>\n",
       "      <td>F</td>\n",
       "      <td>10th</td>\n",
       "      <td>Thomas High School</td>\n",
       "      <td>95.0</td>\n",
       "      <td>70.0</td>\n",
       "    </tr>\n",
       "    <tr>\n",
       "      <th>39167</th>\n",
       "      <td>39167</td>\n",
       "      <td>Rebecca Tanner</td>\n",
       "      <td>F</td>\n",
       "      <td>9th</td>\n",
       "      <td>Thomas High School</td>\n",
       "      <td>NaN</td>\n",
       "      <td>NaN</td>\n",
       "    </tr>\n",
       "    <tr>\n",
       "      <th>39168</th>\n",
       "      <td>39168</td>\n",
       "      <td>Desiree Kidd</td>\n",
       "      <td>F</td>\n",
       "      <td>10th</td>\n",
       "      <td>Thomas High School</td>\n",
       "      <td>99.0</td>\n",
       "      <td>90.0</td>\n",
       "    </tr>\n",
       "    <tr>\n",
       "      <th>39169</th>\n",
       "      <td>39169</td>\n",
       "      <td>Carolyn Jackson</td>\n",
       "      <td>F</td>\n",
       "      <td>11th</td>\n",
       "      <td>Thomas High School</td>\n",
       "      <td>95.0</td>\n",
       "      <td>75.0</td>\n",
       "    </tr>\n",
       "  </tbody>\n",
       "</table>\n",
       "</div>"
      ],
      "text/plain": [
       "       Student ID     student_name gender grade         school_name  \\\n",
       "39160       39160     Katie Weaver      F  11th  Thomas High School   \n",
       "39161       39161      April Reyes      F  10th  Thomas High School   \n",
       "39162       39162      Derek Weeks      M  12th  Thomas High School   \n",
       "39163       39163       John Reese      M  11th  Thomas High School   \n",
       "39164       39164   Joseph Anthony      M   9th  Thomas High School   \n",
       "39165       39165     Donna Howard      F  12th  Thomas High School   \n",
       "39166       39166        Dawn Bell      F  10th  Thomas High School   \n",
       "39167       39167   Rebecca Tanner      F   9th  Thomas High School   \n",
       "39168       39168     Desiree Kidd      F  10th  Thomas High School   \n",
       "39169       39169  Carolyn Jackson      F  11th  Thomas High School   \n",
       "\n",
       "       reading_score  math_score  \n",
       "39160           89.0        86.0  \n",
       "39161           70.0        84.0  \n",
       "39162           94.0        77.0  \n",
       "39163           90.0        75.0  \n",
       "39164            NaN         NaN  \n",
       "39165           99.0        90.0  \n",
       "39166           95.0        70.0  \n",
       "39167            NaN         NaN  \n",
       "39168           99.0        90.0  \n",
       "39169           95.0        75.0  "
      ]
     },
     "execution_count": 43,
     "metadata": {},
     "output_type": "execute_result"
    }
   ],
   "source": [
    "#  Step 4. Check the student data for NaN's. \n",
    "student_data_df.tail(10)\n"
   ]
  },
  {
   "cell_type": "markdown",
   "id": "ba9c8769",
   "metadata": {},
   "source": [
    "## Deliverable 2 : Repeat the school district analysis"
   ]
  },
  {
   "cell_type": "markdown",
   "id": "d1cc99c0",
   "metadata": {},
   "source": [
    "### District Summary"
   ]
  },
  {
   "cell_type": "code",
   "execution_count": null,
   "id": "4a980fc6",
   "metadata": {},
   "outputs": [],
   "source": [
    "# Combine the data into a single dataset\n",
    "school_data_complete_df = pd.merge(student_data_df, school_data_df, how=\"left\", on=[\"school_name\", \"school_name\"])\n",
    "school_data_complete_df.head()"
   ]
  },
  {
   "cell_type": "code",
   "execution_count": null,
   "id": "3934c522",
   "metadata": {},
   "outputs": [],
   "source": [
    "# Calculate the Totals (Schools and Students)\n",
    "school_count = len(school_data_complete_df[\"school_name\"].unique())\n",
    "student_count = school_data_complete_df[\"Student ID\"].count()\n",
    "\n",
    "# Calculate the Total Budget\n",
    "total_budget = school_data_df[\"budget\"].sum()"
   ]
  },
  {
   "cell_type": "code",
   "execution_count": null,
   "id": "35beadf0",
   "metadata": {},
   "outputs": [],
   "source": [
    "# Calculate the Average Scores using the \"clean_student_data\".\n",
    "average_reading_score = school_data_complete_df[\"reading_score\"].mean()\n",
    "average_math_score = school_data_complete_df[\"math_score\"].mean()"
   ]
  },
  {
   "cell_type": "code",
   "execution_count": null,
   "id": "d4dee8e3",
   "metadata": {},
   "outputs": [],
   "source": [
    "# Step 1. Get the number of students that are in ninth grade at Thomas High School.\n",
    "# These students have no grades. \n",
    "\n",
    "\n",
    "# Get the total student count \n",
    "student_count = school_data_complete_df[\"Student ID\"].count()\n",
    "\n",
    "\n",
    "# Step 2. Subtract the number of students that are in ninth grade at \n",
    "# Thomas High School from the total student count to get the new total student count.\n"
   ]
  },
  {
   "cell_type": "code",
   "execution_count": null,
   "id": "ab1cd855",
   "metadata": {},
   "outputs": [],
   "source": [
    "# Calculate the passing rates using the \"clean_student_data\".\n",
    "passing_math_count = school_data_complete_df[(school_data_complete_df[\"math_score\"] >= 70)].count()[\"student_name\"]\n",
    "passing_reading_count = school_data_complete_df[(school_data_complete_df[\"reading_score\"] >= 70)].count()[\"student_name\"]"
   ]
  },
  {
   "cell_type": "code",
   "execution_count": null,
   "id": "b11cdcb9",
   "metadata": {},
   "outputs": [],
   "source": [
    "# Step 3. Calculate the passing percentages with the new total student count.\n"
   ]
  },
  {
   "cell_type": "code",
   "execution_count": null,
   "id": "4e61d1ac",
   "metadata": {},
   "outputs": [],
   "source": [
    "# Calculate the students who passed both reading and math.\n",
    "passing_math_reading = school_data_complete_df[(school_data_complete_df[\"math_score\"] >= 70)\n",
    "                                               & (school_data_complete_df[\"reading_score\"] >= 70)]\n",
    "\n",
    "# Calculate the number of students that passed both reading and math.\n",
    "overall_passing_math_reading_count = passing_math_reading[\"student_name\"].count()\n",
    "\n",
    "\n",
    "# Step 4.Calculate the overall passing percentage with new total student count.\n"
   ]
  },
  {
   "cell_type": "code",
   "execution_count": null,
   "id": "bcd3f49b",
   "metadata": {},
   "outputs": [],
   "source": [
    "# Create a DataFrame\n",
    "district_summary_df = pd.DataFrame(\n",
    "          [{\"Total Schools\": school_count, \n",
    "          \"Total Students\": student_count, \n",
    "          \"Total Budget\": total_budget,\n",
    "          \"Average Math Score\": average_math_score, \n",
    "          \"Average Reading Score\": average_reading_score,\n",
    "          \"% Passing Math\": passing_math_percentage,\n",
    "         \"% Passing Reading\": passing_reading_percentage,\n",
    "        \"% Overall Passing\": overall_passing_percentage}])\n",
    "\n",
    "\n",
    "\n",
    "# Format the \"Total Students\" to have the comma for a thousands separator.\n",
    "district_summary_df[\"Total Students\"] = district_summary_df[\"Total Students\"].map(\"{:,}\".format)\n",
    "# Format the \"Total Budget\" to have the comma for a thousands separator, a decimal separator and a \"$\".\n",
    "district_summary_df[\"Total Budget\"] = district_summary_df[\"Total Budget\"].map(\"${:,.2f}\".format)\n",
    "# Format the columns.\n",
    "district_summary_df[\"Average Math Score\"] = district_summary_df[\"Average Math Score\"].map(\"{:.1f}\".format)\n",
    "district_summary_df[\"Average Reading Score\"] = district_summary_df[\"Average Reading Score\"].map(\"{:.1f}\".format)\n",
    "district_summary_df[\"% Passing Math\"] = district_summary_df[\"% Passing Math\"].map(\"{:.1f}\".format)\n",
    "district_summary_df[\"% Passing Reading\"] = district_summary_df[\"% Passing Reading\"].map(\"{:.1f}\".format)\n",
    "district_summary_df[\"% Overall Passing\"] = district_summary_df[\"% Overall Passing\"].map(\"{:.1f}\".format)\n",
    "\n",
    "# Display the data frame\n",
    "district_summary_df"
   ]
  },
  {
   "cell_type": "markdown",
   "id": "2e90abcb",
   "metadata": {},
   "source": [
    "##  School Summary"
   ]
  },
  {
   "cell_type": "code",
   "execution_count": null,
   "id": "d44ed16c",
   "metadata": {},
   "outputs": [],
   "source": [
    "# Determine the School Type\n",
    "per_school_types = school_data_df.set_index([\"school_name\"])[\"type\"]\n",
    "\n",
    "# Calculate the total student count.\n",
    "per_school_counts = school_data_complete_df[\"school_name\"].value_counts()\n",
    "\n",
    "# Calculate the total school budget and per capita spending\n",
    "per_school_budget = school_data_complete_df.groupby([\"school_name\"]).mean()[\"budget\"]\n",
    "# Calculate the per capita spending.\n",
    "per_school_capita = per_school_budget / per_school_counts\n",
    "\n",
    "# Calculate the average test scores.\n",
    "per_school_math = school_data_complete_df.groupby([\"school_name\"]).mean()[\"math_score\"]\n",
    "per_school_reading = school_data_complete_df.groupby([\"school_name\"]).mean()[\"reading_score\"]\n",
    "\n",
    "# Calculate the passing scores by creating a filtered DataFrame.\n",
    "per_school_passing_math = school_data_complete_df[(school_data_complete_df[\"math_score\"] >= 70)]\n",
    "per_school_passing_reading = school_data_complete_df[(school_data_complete_df[\"reading_score\"] >= 70)]\n",
    "\n",
    "# Calculate the number of students passing math and passing reading by school.\n",
    "per_school_passing_math = per_school_passing_math.groupby([\"school_name\"]).count()[\"student_name\"]\n",
    "per_school_passing_reading = per_school_passing_reading.groupby([\"school_name\"]).count()[\"student_name\"]\n",
    "\n",
    "# Calculate the percentage of passing math and reading scores per school.\n",
    "per_school_passing_math = per_school_passing_math / per_school_counts * 100\n",
    "per_school_passing_reading = per_school_passing_reading / per_school_counts * 100\n",
    "\n",
    "# Calculate the students who passed both reading and math.\n",
    "per_passing_math_reading = school_data_complete_df[(school_data_complete_df[\"reading_score\"] >= 70)\n",
    "                                               & (school_data_complete_df[\"math_score\"] >= 70)]\n",
    "\n",
    "# Calculate the number of students passing math and passing reading by school.\n",
    "per_passing_math_reading = per_passing_math_reading.groupby([\"school_name\"]).count()[\"student_name\"]\n",
    "\n",
    "# Calculate the percentage of passing math and reading scores per school.\n",
    "per_overall_passing_percentage = per_passing_math_reading / per_school_counts * 100"
   ]
  },
  {
   "cell_type": "code",
   "execution_count": null,
   "id": "45ad52a1",
   "metadata": {},
   "outputs": [],
   "source": [
    "# Create the DataFrame\n",
    "per_school_summary_df = pd.DataFrame({\n",
    "    \"School Type\": per_school_types,\n",
    "    \"Total Students\": per_school_counts,\n",
    "    \"Total School Budget\": per_school_budget,\n",
    "    \"Per Student Budget\": per_school_capita,\n",
    "    \"Average Math Score\": per_school_math,\n",
    "    \"Average Reading Score\": per_school_reading,\n",
    "    \"% Passing Math\": per_school_passing_math,\n",
    "    \"% Passing Reading\": per_school_passing_reading,\n",
    "    \"% Overall Passing\": per_overall_passing_percentage})\n",
    "\n",
    "\n",
    "# per_school_summary_df.head()"
   ]
  },
  {
   "cell_type": "code",
   "execution_count": null,
   "id": "d66747c3",
   "metadata": {},
   "outputs": [],
   "source": [
    "# Format the Total School Budget and the Per Student Budget\n",
    "per_school_summary_df[\"Total School Budget\"] = per_school_summary_df[\"Total School Budget\"].map(\"${:,.2f}\".format)\n",
    "per_school_summary_df[\"Per Student Budget\"] = per_school_summary_df[\"Per Student Budget\"].map(\"${:,.2f}\".format)\n",
    "\n",
    "# Display the data frame\n",
    "per_school_summary_df"
   ]
  },
  {
   "cell_type": "code",
   "execution_count": null,
   "id": "2b3b7488",
   "metadata": {},
   "outputs": [],
   "source": [
    "# Step 5.  Get the number of 10th-12th graders from Thomas High School (THS).\n"
   ]
  },
  {
   "cell_type": "code",
   "execution_count": null,
   "id": "2af8f316",
   "metadata": {},
   "outputs": [],
   "source": [
    "# Step 6. Get all the students passing math from THS\n"
   ]
  },
  {
   "cell_type": "code",
   "execution_count": null,
   "id": "92b895ef",
   "metadata": {},
   "outputs": [],
   "source": [
    "# Step 7. Get all the students passing reading from THS\n"
   ]
  },
  {
   "cell_type": "code",
   "execution_count": null,
   "id": "f4474d41",
   "metadata": {},
   "outputs": [],
   "source": [
    "# Step 8. Get all the students passing math and reading from THS\n"
   ]
  },
  {
   "cell_type": "code",
   "execution_count": null,
   "id": "6785ef73",
   "metadata": {},
   "outputs": [],
   "source": [
    "# Step 9. Calculate the percentage of 10th-12th grade students passing math from Thomas High School. \n"
   ]
  },
  {
   "cell_type": "code",
   "execution_count": null,
   "id": "ade300e8",
   "metadata": {},
   "outputs": [],
   "source": [
    "# Step 10. Calculate the percentage of 10th-12th grade students passing reading from Thomas High School.\n"
   ]
  },
  {
   "cell_type": "code",
   "execution_count": null,
   "id": "d54634ec",
   "metadata": {},
   "outputs": [],
   "source": [
    "# Step 11. Calculate the overall passing percentage of 10th-12th grade from Thomas High School. \n",
    "\n"
   ]
  },
  {
   "cell_type": "code",
   "execution_count": null,
   "id": "374e8681",
   "metadata": {},
   "outputs": [],
   "source": [
    "# Step 12. Replace the passing math percent for Thomas High School in the per_school_summary_df.\n"
   ]
  },
  {
   "cell_type": "code",
   "execution_count": null,
   "id": "cddf8f21",
   "metadata": {},
   "outputs": [],
   "source": [
    "# Step 13. Replace the passing reading percentage for Thomas High School in the per_school_summary_df.\n"
   ]
  },
  {
   "cell_type": "code",
   "execution_count": null,
   "id": "7913e1f0",
   "metadata": {},
   "outputs": [],
   "source": [
    "# Step 14. Replace the overall passing percentage for Thomas High School in the per_school_summary_df.\n"
   ]
  },
  {
   "cell_type": "code",
   "execution_count": null,
   "id": "17b747f4",
   "metadata": {},
   "outputs": [],
   "source": [
    "# per_school_summary_df"
   ]
  },
  {
   "cell_type": "markdown",
   "id": "9a3aada2",
   "metadata": {},
   "source": [
    "## High and Low Performing Schools "
   ]
  },
  {
   "cell_type": "code",
   "execution_count": null,
   "id": "393eb201",
   "metadata": {
    "scrolled": true
   },
   "outputs": [],
   "source": [
    "# Sort and show top five schools.\n"
   ]
  },
  {
   "cell_type": "code",
   "execution_count": null,
   "id": "f4d2627b",
   "metadata": {},
   "outputs": [],
   "source": [
    "# Sort and show top five schools.\n"
   ]
  },
  {
   "cell_type": "markdown",
   "id": "c1aa2881",
   "metadata": {
    "collapsed": true
   },
   "source": [
    "## Math and Reading Scores by Grade"
   ]
  },
  {
   "cell_type": "code",
   "execution_count": null,
   "id": "30791871",
   "metadata": {},
   "outputs": [],
   "source": [
    "# Create a Series of scores by grade levels using conditionals.\n",
    "\n",
    "\n",
    "# Group each school Series by the school name for the average math score.\n",
    "\n",
    "\n",
    "# Group each school Series by the school name for the average reading score.\n"
   ]
  },
  {
   "cell_type": "code",
   "execution_count": null,
   "id": "31c9fa67",
   "metadata": {},
   "outputs": [],
   "source": [
    "# Combine each Series for average math scores by school into single data frame.\n"
   ]
  },
  {
   "cell_type": "code",
   "execution_count": null,
   "id": "f899504a",
   "metadata": {},
   "outputs": [],
   "source": [
    "# Combine each Series for average reading scores by school into single data frame.\n"
   ]
  },
  {
   "cell_type": "code",
   "execution_count": null,
   "id": "17864c38",
   "metadata": {},
   "outputs": [],
   "source": [
    "# Format each grade column.\n"
   ]
  },
  {
   "cell_type": "code",
   "execution_count": null,
   "id": "3816991a",
   "metadata": {},
   "outputs": [],
   "source": [
    "# Remove the index.\n",
    "\n",
    "\n",
    "# Display the data frame\n"
   ]
  },
  {
   "cell_type": "code",
   "execution_count": null,
   "id": "5ad12c69",
   "metadata": {},
   "outputs": [],
   "source": [
    "## Remove the index.\n",
    "\n",
    "\n",
    "# Display the data frame\n"
   ]
  },
  {
   "cell_type": "markdown",
   "id": "df61098d",
   "metadata": {},
   "source": [
    "## Scores by School Spending"
   ]
  },
  {
   "cell_type": "code",
   "execution_count": null,
   "id": "0013f34d",
   "metadata": {},
   "outputs": [],
   "source": [
    "# Establish the spending bins and group names.\n",
    "\n",
    "\n",
    "# Categorize spending based on the bins.\n"
   ]
  },
  {
   "cell_type": "code",
   "execution_count": null,
   "id": "15abef58",
   "metadata": {},
   "outputs": [],
   "source": [
    "# Calculate averages for the desired columns. \n"
   ]
  },
  {
   "cell_type": "code",
   "execution_count": null,
   "id": "a85827cf",
   "metadata": {},
   "outputs": [],
   "source": [
    "# Create the DataFrame\n"
   ]
  },
  {
   "cell_type": "code",
   "execution_count": null,
   "id": "f631cd4e",
   "metadata": {},
   "outputs": [],
   "source": [
    "# Format the DataFrame \n"
   ]
  },
  {
   "cell_type": "markdown",
   "id": "7dd62aea",
   "metadata": {},
   "source": [
    "## Scores by School Size"
   ]
  },
  {
   "cell_type": "code",
   "execution_count": null,
   "id": "20dc514f",
   "metadata": {},
   "outputs": [],
   "source": [
    "# Establish the bins.\n",
    "\n",
    "# Categorize spending based on the bins.\n"
   ]
  },
  {
   "cell_type": "code",
   "execution_count": null,
   "id": "f1349e6d",
   "metadata": {},
   "outputs": [],
   "source": [
    "# Calculate averages for the desired columns. \n"
   ]
  },
  {
   "cell_type": "code",
   "execution_count": null,
   "id": "138050de",
   "metadata": {
    "scrolled": true
   },
   "outputs": [],
   "source": [
    "# Assemble into DataFrame. \n"
   ]
  },
  {
   "cell_type": "code",
   "execution_count": null,
   "id": "16348d0f",
   "metadata": {},
   "outputs": [],
   "source": [
    "# Format the DataFrame  \n"
   ]
  },
  {
   "cell_type": "markdown",
   "id": "9a057ab3",
   "metadata": {},
   "source": [
    "## Scores by School Type"
   ]
  },
  {
   "cell_type": "code",
   "execution_count": null,
   "id": "6e18eb20",
   "metadata": {},
   "outputs": [],
   "source": [
    "# Calculate averages for the desired columns. \n"
   ]
  },
  {
   "cell_type": "code",
   "execution_count": null,
   "id": "ea98d41e",
   "metadata": {},
   "outputs": [],
   "source": [
    "# Assemble into DataFrame. \n"
   ]
  },
  {
   "cell_type": "code",
   "execution_count": null,
   "id": "774af8f1",
   "metadata": {},
   "outputs": [],
   "source": [
    "# # Format the DataFrame \n"
   ]
  },
  {
   "cell_type": "code",
   "execution_count": null,
   "id": "b7817d89",
   "metadata": {},
   "outputs": [],
   "source": [
    "# Add the Pandas dependency\n",
    "import pandas as pd"
   ]
  },
  {
   "cell_type": "code",
   "execution_count": null,
   "id": "aa598bbd",
   "metadata": {},
   "outputs": [],
   "source": [
    "# Files to load\n",
    "school_data_to_load = \"Resources/schools_complete.csv\"\n",
    "student_data_to_load = \"Resources/students_complete.csv\""
   ]
  },
  {
   "cell_type": "code",
   "execution_count": null,
   "id": "feb830c0",
   "metadata": {},
   "outputs": [],
   "source": [
    "school_data = pd.read_csv(school_data_to_load)\n",
    "student_data = pd.read_csv(student_data_to_load)"
   ]
  },
  {
   "cell_type": "code",
   "execution_count": null,
   "id": "65d6de94",
   "metadata": {
    "scrolled": false
   },
   "outputs": [],
   "source": [
    "school_data.head()"
   ]
  },
  {
   "cell_type": "code",
   "execution_count": null,
   "id": "7dcfad98",
   "metadata": {
    "scrolled": true
   },
   "outputs": [],
   "source": [
    "student_data.head()"
   ]
  },
  {
   "cell_type": "code",
   "execution_count": null,
   "id": "cfe7bf09",
   "metadata": {},
   "outputs": [],
   "source": [
    "school_data.isnull().sum()"
   ]
  },
  {
   "cell_type": "code",
   "execution_count": null,
   "id": "1fe6fe18",
   "metadata": {
    "scrolled": false
   },
   "outputs": [],
   "source": [
    "student_data.isnull().sum()"
   ]
  },
  {
   "cell_type": "code",
   "execution_count": null,
   "id": "4809a93e",
   "metadata": {
    "scrolled": true
   },
   "outputs": [],
   "source": [
    "school_data.dtypes"
   ]
  },
  {
   "cell_type": "code",
   "execution_count": null,
   "id": "3d2b3369",
   "metadata": {
    "scrolled": true
   },
   "outputs": [],
   "source": [
    "student_data.dtypes"
   ]
  },
  {
   "cell_type": "code",
   "execution_count": null,
   "id": "b81a3687",
   "metadata": {
    "scrolled": true
   },
   "outputs": [],
   "source": [
    "# Use prefixes and suffixes identified in cleaning_student_names to clean the student_name column of the data frame\n",
    "pre_suff = ['Dr. ', 'Mr. ', 'Ms. ', 'Mrs. ', 'Miss', ' MD', ' DDS', ' DVM', ' PhD']\n",
    "for index in pre_suff:\n",
    "    student_data.student_name = student_data.student_name.str.replace(index, \"\")"
   ]
  },
  {
   "cell_type": "code",
   "execution_count": null,
   "id": "0b8cbf17",
   "metadata": {
    "scrolled": true
   },
   "outputs": [],
   "source": [
    "school_data_complete = pd.merge(student_data,school_data,on=[\"school_name\",\"school_name\"])\n",
    "school_data_complete.head()"
   ]
  },
  {
   "cell_type": "code",
   "execution_count": null,
   "id": "29431167",
   "metadata": {},
   "outputs": [],
   "source": [
    "student_count = school_data_complete[\"Student ID\"].count()\n",
    "student_count"
   ]
  },
  {
   "cell_type": "code",
   "execution_count": null,
   "id": "2cee7d97",
   "metadata": {},
   "outputs": [],
   "source": [
    "school_count = school_data.school_name.count()\n",
    "school_count"
   ]
  },
  {
   "cell_type": "code",
   "execution_count": null,
   "id": "8eb04eba",
   "metadata": {},
   "outputs": [],
   "source": [
    "total_budget = school_data.budget.sum()\n",
    "print(f\"${total_budget:,}\")"
   ]
  },
  {
   "cell_type": "code",
   "execution_count": null,
   "id": "54175dd6",
   "metadata": {},
   "outputs": [],
   "source": [
    "avg_read = student_data.reading_score.mean()\n",
    "print(f\"{avg_read:.2f}\")"
   ]
  },
  {
   "cell_type": "code",
   "execution_count": null,
   "id": "70715e8d",
   "metadata": {},
   "outputs": [],
   "source": [
    "avg_math = student_data.math_score.mean()\n",
    "print(f\"{avg_math:.2f}\")"
   ]
  },
  {
   "cell_type": "code",
   "execution_count": null,
   "id": "bfb23091",
   "metadata": {},
   "outputs": [],
   "source": [
    "passing_read = school_data_complete[school_data_complete.reading_score >= 70]\n",
    "passing_read.head()"
   ]
  },
  {
   "cell_type": "code",
   "execution_count": null,
   "id": "a2fd2f56",
   "metadata": {
    "scrolled": true
   },
   "outputs": [],
   "source": [
    "passing_math = school_data_complete[school_data_complete.math_score >= 70]\n",
    "passing_math.head()"
   ]
  },
  {
   "cell_type": "code",
   "execution_count": null,
   "id": "f454d352",
   "metadata": {},
   "outputs": [],
   "source": [
    "passing_math_count = passing_math.student_name.count()\n",
    "passing_math_count"
   ]
  },
  {
   "cell_type": "code",
   "execution_count": null,
   "id": "5013cc7d",
   "metadata": {},
   "outputs": [],
   "source": [
    "passing_read_count = passing_read.student_name.count()\n",
    "passing_read_count"
   ]
  },
  {
   "cell_type": "code",
   "execution_count": null,
   "id": "c9911c0a",
   "metadata": {},
   "outputs": [],
   "source": [
    "passing_read_percent = float(passing_read_count)/float(student_count)*100\n",
    "print(f\"{passing_read_percent:.2f}\")"
   ]
  },
  {
   "cell_type": "code",
   "execution_count": null,
   "id": "48a4853f",
   "metadata": {},
   "outputs": [],
   "source": [
    "passing_math_percent = float(passing_math_count)/float(student_count)*100\n",
    "print(f\"{passing_math_percent:.2f}\")"
   ]
  },
  {
   "cell_type": "code",
   "execution_count": null,
   "id": "440f6881",
   "metadata": {},
   "outputs": [],
   "source": [
    "passing_both = passing_math[passing_math.reading_score >= 70]\n",
    "passing_both_count = passing_both.student_name.count()\n",
    "passing_both_percent = float(passing_both_count)/float(student_count)*100\n",
    "print(f\"{passing_both_percent:.2f}\")"
   ]
  },
  {
   "cell_type": "code",
   "execution_count": null,
   "id": "b1c3948f",
   "metadata": {},
   "outputs": [],
   "source": [
    "passing_both_count"
   ]
  },
  {
   "cell_type": "code",
   "execution_count": null,
   "id": "eec8fd34",
   "metadata": {},
   "outputs": [],
   "source": [
    "district_summary_df = pd.DataFrame(\n",
    "    [{\"Total Schools\": school_count,\n",
    "     \"Total Students\": student_count,\n",
    "      \"Total Budget\": total_budget,\n",
    "      \"Average Math Score\": avg_math,\n",
    "      \"Average Reading Score\": avg_read,\n",
    "      \"% Passing Math\": passing_math_percent,\n",
    "      \"% Passing Reading\": passing_read_percent,\n",
    "      \"% Overall Passing\": passing_both_percent}])\n",
    "district_summary_df"
   ]
  },
  {
   "cell_type": "code",
   "execution_count": null,
   "id": "6434b53e",
   "metadata": {},
   "outputs": [],
   "source": [
    "district_summary_df['Total Budget'] = district_summary_df['Total Budget'].map(\"${:,.2f}\".format)"
   ]
  },
  {
   "cell_type": "code",
   "execution_count": null,
   "id": "fc4e309d",
   "metadata": {},
   "outputs": [],
   "source": [
    "district_summary_df['Total Students'] = district_summary_df['Total Students'].map(\"{:,}\".format)"
   ]
  },
  {
   "cell_type": "code",
   "execution_count": null,
   "id": "29fd81e3",
   "metadata": {},
   "outputs": [],
   "source": [
    "district_summary_df['Average Math Score'] = district_summary_df['Average Math Score'].map(\"{:.1f}\".format)"
   ]
  },
  {
   "cell_type": "code",
   "execution_count": null,
   "id": "8496b215",
   "metadata": {},
   "outputs": [],
   "source": [
    "district_summary_df['Average Reading Score'] = district_summary_df['Average Reading Score'].map(\"{:.1f}\".format)"
   ]
  },
  {
   "cell_type": "code",
   "execution_count": null,
   "id": "90878f4b",
   "metadata": {},
   "outputs": [],
   "source": [
    "district_summary_df['% Passing Math'] = district_summary_df['% Passing Math'].map(\"{:.0f}\".format)\n",
    "district_summary_df['% Passing Reading'] = district_summary_df['% Passing Reading'].map(\"{:.0f}\".format)\n",
    "district_summary_df['% Overall Passing'] = district_summary_df['% Overall Passing'].map(\"{:.0f}\".format)"
   ]
  },
  {
   "cell_type": "code",
   "execution_count": null,
   "id": "c80cf6cd",
   "metadata": {},
   "outputs": [],
   "source": [
    "new_order = [\"Total Schools\", \"Total Students\", \"Total Budget\", \"Average Math Score\", \"Average Reading Score\", \"% Passing Math\", \"% Passing Reading\", \"% Overall Passing\"]\n",
    "district_summary_df = district_summary_df[new_order]\n",
    "district_summary_df"
   ]
  },
  {
   "cell_type": "code",
   "execution_count": null,
   "id": "d00eb0c2",
   "metadata": {},
   "outputs": [],
   "source": [
    "per_school_types = school_data.set_index([\"school_name\"]).type\n",
    "per_school_types"
   ]
  },
  {
   "cell_type": "code",
   "execution_count": null,
   "id": "223e40f3",
   "metadata": {},
   "outputs": [],
   "source": [
    "school_summary_df = pd.DataFrame(per_school_types)\n",
    "school_summary_df"
   ]
  },
  {
   "cell_type": "code",
   "execution_count": null,
   "id": "b4dbb6c3",
   "metadata": {},
   "outputs": [],
   "source": [
    "per_school_students = school_data_complete.school_name.value_counts()\n",
    "per_school_students"
   ]
  },
  {
   "cell_type": "code",
   "execution_count": null,
   "id": "f0543dc4",
   "metadata": {},
   "outputs": [],
   "source": [
    "per_school_budget = school_data.set_index([\"school_name\"]).budget\n",
    "per_school_budget"
   ]
  },
  {
   "cell_type": "code",
   "execution_count": null,
   "id": "492549a8",
   "metadata": {},
   "outputs": [],
   "source": [
    "per_school_capita = per_school_budget/per_school_students\n",
    "per_school_capita"
   ]
  },
  {
   "cell_type": "code",
   "execution_count": null,
   "id": "dd1d1afa",
   "metadata": {},
   "outputs": [],
   "source": [
    "per_school_math_series = student_data.set_index([\"school_name\"]).math_score\n",
    "per_school_math_series"
   ]
  },
  {
   "cell_type": "code",
   "execution_count": null,
   "id": "59b88733",
   "metadata": {},
   "outputs": [],
   "source": [
    "per_school_averages = school_data_complete.groupby([\"school_name\"]).mean()\n",
    "per_school_averages"
   ]
  },
  {
   "cell_type": "code",
   "execution_count": null,
   "id": "69a2f7e7",
   "metadata": {},
   "outputs": [],
   "source": [
    "per_school_math = per_school_averages.math_score\n",
    "per_school_math"
   ]
  },
  {
   "cell_type": "code",
   "execution_count": null,
   "id": "2919fb22",
   "metadata": {},
   "outputs": [],
   "source": [
    "per_school_reading = per_school_averages.reading_score\n",
    "per_school_reading"
   ]
  },
  {
   "cell_type": "code",
   "execution_count": null,
   "id": "2218a156",
   "metadata": {},
   "outputs": [],
   "source": [
    "per_school_math_pass = passing_math.groupby(['school_name']).count()[\"student_name\"]\n",
    "per_school_math_pass"
   ]
  },
  {
   "cell_type": "code",
   "execution_count": null,
   "id": "3d11888d",
   "metadata": {},
   "outputs": [],
   "source": [
    "per_school_reading_pass = passing_read.groupby([\"school_name\"]).count()['student_name']\n",
    "per_school_reading_pass"
   ]
  },
  {
   "cell_type": "code",
   "execution_count": null,
   "id": "6c3cd0f5",
   "metadata": {},
   "outputs": [],
   "source": [
    "per_school_both_pass = passing_both.groupby([\"school_name\"]).count()['student_name']\n",
    "per_school_both_pass"
   ]
  },
  {
   "cell_type": "code",
   "execution_count": null,
   "id": "0b85c4f7",
   "metadata": {},
   "outputs": [],
   "source": [
    "per_school_percent_math = per_school_math_pass/per_school_students*100\n",
    "per_school_percent_math"
   ]
  },
  {
   "cell_type": "code",
   "execution_count": null,
   "id": "d4df81a1",
   "metadata": {},
   "outputs": [],
   "source": [
    "per_school_percent_read = per_school_reading_pass/per_school_students*100\n",
    "per_school_percent_read"
   ]
  },
  {
   "cell_type": "code",
   "execution_count": null,
   "id": "88c089f0",
   "metadata": {},
   "outputs": [],
   "source": [
    "per_school_percent_both = per_school_both_pass/per_school_students*100\n",
    "per_school_percent_both"
   ]
  },
  {
   "cell_type": "code",
   "execution_count": null,
   "id": "bb13c791",
   "metadata": {},
   "outputs": [],
   "source": [
    "per_school_summary_df = pd.DataFrame({\n",
    "    'School Type': per_school_types,\n",
    "    'Total Students': per_school_students,\n",
    "    'Total School Budget': per_school_budget,\n",
    "    'Per Student Budget': per_school_capita,\n",
    "    'Average Math Score': per_school_math,\n",
    "    'Average Reading Score': per_school_reading,\n",
    "    '% Passing Math': per_school_percent_math,\n",
    "    '% Passing Reading': per_school_percent_read,\n",
    "    '% Overall Passing': per_school_percent_both})\n",
    "per_school_summary_df"
   ]
  },
  {
   "cell_type": "code",
   "execution_count": null,
   "id": "fa192411",
   "metadata": {},
   "outputs": [],
   "source": [
    "per_school_summary_df['Total School Budget'] = per_school_summary_df['Total School Budget'].map(\"${:,.2f}\".format)\n",
    "per_school_summary_df['Per Student Budget'] = per_school_summary_df['Per Student Budget'].map(\"${:,.2f}\".format)\n",
    "per_school_summary_df"
   ]
  },
  {
   "cell_type": "code",
   "execution_count": null,
   "id": "a2b396f3",
   "metadata": {},
   "outputs": [],
   "source": [
    "top_schools = per_school_summary_df.sort_values(['% Overall Passing'], ascending=False)\n",
    "top_schools.head()"
   ]
  },
  {
   "cell_type": "code",
   "execution_count": null,
   "id": "e4a3f505",
   "metadata": {},
   "outputs": [],
   "source": [
    "bottom_schools = per_school_summary_df.sort_values(['% Overall Passing'])\n",
    "bottom_schools.head()"
   ]
  },
  {
   "cell_type": "code",
   "execution_count": null,
   "id": "9457a16b",
   "metadata": {},
   "outputs": [],
   "source": [
    "freshman = school_data_complete[school_data_complete.grade == '9th']\n",
    "sophomores = school_data_complete[school_data_complete.grade == '10th']\n",
    "juniors = school_data_complete[school_data_complete.grade == '11th']\n",
    "seniors = school_data_complete[school_data_complete.grade == '12th']\n",
    "seniors"
   ]
  },
  {
   "cell_type": "code",
   "execution_count": null,
   "id": "b2acdda4",
   "metadata": {},
   "outputs": [],
   "source": [
    "freshman_math_avg = freshman.groupby(['school_name']).mean()['math_score']\n",
    "freshman_read_avg = freshman.groupby(['school_name']).mean()['reading_score']"
   ]
  },
  {
   "cell_type": "code",
   "execution_count": null,
   "id": "f936b165",
   "metadata": {},
   "outputs": [],
   "source": [
    "sophomores_math_avg = sophomores.groupby(['school_name']).mean()['math_score']\n",
    "sophomores_read_avg = sophomores.groupby(['school_name']).mean()['reading_score']"
   ]
  },
  {
   "cell_type": "code",
   "execution_count": null,
   "id": "88e4de2f",
   "metadata": {},
   "outputs": [],
   "source": [
    "juniors_math_avg = juniors.groupby(['school_name']).mean()['math_score']\n",
    "juniors_read_avg = juniors.groupby(['school_name']).mean()['reading_score']"
   ]
  },
  {
   "cell_type": "code",
   "execution_count": null,
   "id": "ae637552",
   "metadata": {},
   "outputs": [],
   "source": [
    "seniors_math_avg = seniors.groupby(['school_name']).mean()['math_score']\n",
    "seniors_read_avg = seniors.groupby(['school_name']).mean()['reading_score']\n",
    "seniors_read_avg"
   ]
  },
  {
   "cell_type": "code",
   "execution_count": null,
   "id": "2bb1271b",
   "metadata": {},
   "outputs": [],
   "source": [
    "math_scores_by_grade = pd.DataFrame({\n",
    "    '9th': freshman_math_avg,\n",
    "    '10th': sophomores_math_avg,\n",
    "    '11th': juniors_math_avg,\n",
    "    '12th': seniors_math_avg\n",
    "})\n",
    "math_scores_by_grade['9th'] = math_scores_by_grade['9th'].map(\"{:.1f}\".format)\n",
    "math_scores_by_grade['10th'] = math_scores_by_grade['10th'].map(\"{:.1f}\".format)\n",
    "math_scores_by_grade['11th'] = math_scores_by_grade['11th'].map(\"{:.1f}\".format)\n",
    "math_scores_by_grade['12th'] = math_scores_by_grade['12th'].map(\"{:.1f}\".format)\n",
    "math_scores_by_grade.index.name = None\n",
    "math_scores_by_grade.head()"
   ]
  },
  {
   "cell_type": "code",
   "execution_count": null,
   "id": "595a0855",
   "metadata": {},
   "outputs": [],
   "source": [
    "read_scores_by_grade = pd.DataFrame({\n",
    "    '9th': freshman_read_avg,\n",
    "    '10th': sophomores_read_avg,\n",
    "    '11th': juniors_read_avg,\n",
    "    '12th': seniors_read_avg\n",
    "})\n",
    "read_scores_by_grade['9th'] = read_scores_by_grade['9th'].map(\"{:.1f}\".format)\n",
    "read_scores_by_grade['10th'] = read_scores_by_grade['10th'].map(\"{:.1f}\".format)\n",
    "read_scores_by_grade['11th'] = read_scores_by_grade['11th'].map(\"{:.1f}\".format)\n",
    "read_scores_by_grade['12th'] = read_scores_by_grade['12th'].map(\"{:.1f}\".format)\n",
    "read_scores_by_grade.index.name = None\n",
    "read_scores_by_grade.head()"
   ]
  },
  {
   "cell_type": "code",
   "execution_count": null,
   "id": "dababeea",
   "metadata": {},
   "outputs": [],
   "source": [
    "per_school_capita.sort_values(ascending=False)"
   ]
  },
  {
   "cell_type": "code",
   "execution_count": null,
   "id": "f5cfdc7b",
   "metadata": {},
   "outputs": [],
   "source": [
    "per_school_capita.describe()"
   ]
  },
  {
   "cell_type": "code",
   "execution_count": null,
   "id": "7768b641",
   "metadata": {},
   "outputs": [],
   "source": [
    "spending_bins = [0,585,630,645,675]\n",
    "group_names = ['<$584', '$585-629', '$630-644', '$645-675']"
   ]
  },
  {
   "cell_type": "code",
   "execution_count": null,
   "id": "5df7e7b9",
   "metadata": {},
   "outputs": [],
   "source": [
    "per_school_summary_df['Spending Ranges (Per Student)'] = pd.cut(per_school_capita, spending_bins, labels=group_names)\n",
    "per_school_summary_df"
   ]
  },
  {
   "cell_type": "code",
   "execution_count": null,
   "id": "3adb788f",
   "metadata": {},
   "outputs": [],
   "source": [
    "spending_avg_math = per_school_summary_df.groupby(['Spending Ranges (Per Student)']).mean()['Average Math Score']\n",
    "spending_avg_read = per_school_summary_df.groupby(['Spending Ranges (Per Student)']).mean()['Average Reading Score']\n",
    "spending_pass_math = per_school_summary_df.groupby(['Spending Ranges (Per Student)']).mean()['% Passing Math']\n",
    "spending_pass_read = per_school_summary_df.groupby(['Spending Ranges (Per Student)']).mean()['% Passing Reading']\n",
    "spending_pass_both = per_school_summary_df.groupby(['Spending Ranges (Per Student)']).mean()['% Overall Passing']"
   ]
  },
  {
   "cell_type": "code",
   "execution_count": null,
   "id": "4527f6a7",
   "metadata": {},
   "outputs": [],
   "source": [
    "spending_summary_df = pd.DataFrame({\n",
    "    'Average Math Score': spending_avg_math,\n",
    "    'Average Reading Score': spending_avg_read,\n",
    "    '% Passing Math': spending_pass_math,\n",
    "    '% Passing Reading': spending_pass_read,\n",
    "    '% Overall Passing': spending_pass_both\n",
    "})\n",
    "spending_summary_df['Average Math Score'] = spending_summary_df['Average Math Score'].map('{:.1f}'.format)\n",
    "spending_summary_df['Average Reading Score'] = spending_summary_df['Average Reading Score'].map('{:.1f}'.format)\n",
    "spending_summary_df['% Passing Math'] = spending_summary_df['% Passing Math'].map('{:.0f}'.format)\n",
    "spending_summary_df['% Passing Reading'] = spending_summary_df['% Passing Reading'].map('{:.0f}'.format)\n",
    "spending_summary_df['% Overall Passing'] = spending_summary_df['% Overall Passing'].map('{:.0f}'.format)\n",
    "spending_summary_df.index.name = None\n",
    "spending_summary_df"
   ]
  },
  {
   "cell_type": "code",
   "execution_count": null,
   "id": "f6e89c32",
   "metadata": {},
   "outputs": [],
   "source": [
    "per_school_counts = per_school_summary_df['Total Students'].sort_values(ascending=False)\n",
    "per_school_counts"
   ]
  },
  {
   "cell_type": "code",
   "execution_count": null,
   "id": "af789354",
   "metadata": {},
   "outputs": [],
   "source": [
    "student_bins = [0,1000,2000,5000]\n",
    "group_names = ['Small (<1000)', 'Medium (1000-2000)', 'Large (2000-5000)']"
   ]
  },
  {
   "cell_type": "code",
   "execution_count": null,
   "id": "de42e6d9",
   "metadata": {},
   "outputs": [],
   "source": [
    "per_school_summary_df['Student Ranges'] = pd.cut(per_school_students, student_bins, labels=group_names)\n",
    "per_school_summary_df"
   ]
  },
  {
   "cell_type": "code",
   "execution_count": null,
   "id": "ed761068",
   "metadata": {},
   "outputs": [],
   "source": [
    "student_avg_math = per_school_summary_df.groupby(['Student Ranges']).mean()['Average Math Score']\n",
    "student_avg_read = per_school_summary_df.groupby(['Student Ranges']).mean()['Average Reading Score']\n",
    "student_pass_math = per_school_summary_df.groupby(['Student Ranges']).mean()['% Passing Math']\n",
    "student_pass_read = per_school_summary_df.groupby(['Student Ranges']).mean()['% Passing Reading']\n",
    "student_pass_both = per_school_summary_df.groupby(['Student Ranges']).mean()['% Overall Passing']"
   ]
  },
  {
   "cell_type": "code",
   "execution_count": null,
   "id": "0ae89285",
   "metadata": {},
   "outputs": [],
   "source": [
    "student_summary_df = pd.DataFrame({\n",
    "    'Average Math Score': student_avg_math,\n",
    "    'Average Reading Score': student_avg_read,\n",
    "    '% Passing Math': student_pass_math,\n",
    "    '% Passing Reading': student_pass_read,\n",
    "    '% Overall Passing': student_pass_both\n",
    "})\n",
    "student_summary_df['Average Math Score'] = student_summary_df['Average Math Score'].map('{:.1f}'.format)\n",
    "student_summary_df['Average Reading Score'] = student_summary_df['Average Reading Score'].map('{:.1f}'.format)\n",
    "student_summary_df['% Passing Math'] = student_summary_df['% Passing Math'].map('{:.0f}'.format)\n",
    "student_summary_df['% Passing Reading'] = student_summary_df['% Passing Reading'].map('{:.0f}'.format)\n",
    "student_summary_df['% Overall Passing'] = student_summary_df['% Overall Passing'].map('{:.0f}'.format)\n",
    "student_summary_df.index.name = None\n",
    "student_summary_df"
   ]
  },
  {
   "cell_type": "code",
   "execution_count": null,
   "id": "7501fa8b",
   "metadata": {},
   "outputs": [],
   "source": [
    "type_avg_math = per_school_summary_df.groupby(['School Type']).mean()['Average Math Score']\n",
    "type_avg_read = per_school_summary_df.groupby(['School Type']).mean()['Average Reading Score']\n",
    "type_pass_math = per_school_summary_df.groupby(['School Type']).mean()['% Passing Math']\n",
    "type_pass_read = per_school_summary_df.groupby(['School Type']).mean()['% Passing Reading']\n",
    "type_pass_both = per_school_summary_df.groupby(['School Type']).mean()['% Overall Passing']"
   ]
  },
  {
   "cell_type": "code",
   "execution_count": null,
   "id": "c93f2541",
   "metadata": {},
   "outputs": [],
   "source": [
    "type_summary_df = pd.DataFrame({\n",
    "    'Average Math Score': type_avg_math,\n",
    "    'Average Reading Score': type_avg_read,\n",
    "    '% Passing Math': type_pass_math,\n",
    "    '% Passing Reading': type_pass_read,\n",
    "    '% Overall Passing': type_pass_both\n",
    "})\n",
    "type_summary_df['Average Math Score'] = type_summary_df['Average Math Score'].map('{:.1f}'.format)\n",
    "type_summary_df['Average Reading Score'] = type_summary_df['Average Reading Score'].map('{:.1f}'.format)\n",
    "type_summary_df['% Passing Math'] = type_summary_df['% Passing Math'].map('{:.0f}'.format)\n",
    "type_summary_df['% Passing Reading'] = type_summary_df['% Passing Reading'].map('{:.0f}'.format)\n",
    "type_summary_df['% Overall Passing'] = type_summary_df['% Overall Passing'].map('{:.0f}'.format)\n",
    "type_summary_df.index.name = None\n",
    "type_summary_df"
   ]
  }
 ],
 "metadata": {
  "kernelspec": {
   "display_name": "PythonData",
   "language": "python",
   "name": "pythondata"
  },
  "language_info": {
   "codemirror_mode": {
    "name": "ipython",
    "version": 3
   },
   "file_extension": ".py",
   "mimetype": "text/x-python",
   "name": "python",
   "nbconvert_exporter": "python",
   "pygments_lexer": "ipython3",
   "version": "3.7.10"
  }
 },
 "nbformat": 4,
 "nbformat_minor": 5
}
